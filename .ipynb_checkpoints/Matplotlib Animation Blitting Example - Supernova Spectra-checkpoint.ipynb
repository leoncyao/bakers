{
 "cells": [
  {
   "cell_type": "code",
   "execution_count": 1,
   "metadata": {},
   "outputs": [],
   "source": [
    "from collections import namedtuple\n",
    "from datetime import datetime, timedelta\n",
    "from functools import partial\n",
    "from pathlib import Path\n",
    "from scipy.interpolate import interp2d\n",
    "import matplotlib.animation as animation\n",
    "import matplotlib.pyplot as plt\n",
    "import numpy as np\n",
    "import os\n",
    "import pandas as pd\n",
    "import seaborn as sns\n",
    "\n",
    "# Set plotting style\n",
    "plt.style.use('seaborn-white')\n",
    "\n",
    "plt.rcParams['savefig.bbox'] = 'tight'\n",
    "\n",
    "%matplotlib inline"
   ]
  },
  {
   "cell_type": "markdown",
   "metadata": {},
   "source": [
    "## Prepare the data\n",
    "\n",
    "The data is in a bunch of `.dat` file, which are just `csv` files. Their time ordering is defined by their name, `p` indicates after B-Max, `m` means before B-Max."
   ]
  },
  {
   "cell_type": "code",
   "execution_count": 2,
   "metadata": {},
   "outputs": [
    {
     "ename": "FileNotFoundError",
     "evalue": "[Errno 2] No such file or directory: './data'",
     "output_type": "error",
     "traceback": [
      "\u001b[0;31m---------------------------------------------------------------------------\u001b[0m",
      "\u001b[0;31mFileNotFoundError\u001b[0m                         Traceback (most recent call last)",
      "Input \u001b[0;32mIn [2]\u001b[0m, in \u001b[0;36m<module>\u001b[0;34m\u001b[0m\n\u001b[1;32m      1\u001b[0m \u001b[38;5;66;03m# Load data\u001b[39;00m\n\u001b[1;32m      2\u001b[0m dfs \u001b[38;5;241m=\u001b[39m []\n\u001b[0;32m----> 3\u001b[0m \u001b[38;5;28;01mfor\u001b[39;00m file \u001b[38;5;129;01min\u001b[39;00m \u001b[43mos\u001b[49m\u001b[38;5;241;43m.\u001b[39;49m\u001b[43mlistdir\u001b[49m\u001b[43m(\u001b[49m\u001b[38;5;124;43m\"\u001b[39;49m\u001b[38;5;124;43m./data\u001b[39;49m\u001b[38;5;124;43m\"\u001b[39;49m\u001b[43m)\u001b[49m:\n\u001b[1;32m      4\u001b[0m     \u001b[38;5;28;01mif\u001b[39;00m \u001b[38;5;129;01mnot\u001b[39;00m file\u001b[38;5;241m.\u001b[39mendswith(\u001b[38;5;124m\"\u001b[39m\u001b[38;5;124m.dat\u001b[39m\u001b[38;5;124m\"\u001b[39m):\n\u001b[1;32m      5\u001b[0m         \u001b[38;5;28;01mcontinue\u001b[39;00m\n",
      "\u001b[0;31mFileNotFoundError\u001b[0m: [Errno 2] No such file or directory: './data'"
     ]
    }
   ],
   "source": [
    "# Load data\n",
    "dfs = []\n",
    "for file in os.listdir(\"./data\"):\n",
    "    if not file.endswith(\".dat\"):\n",
    "        continue\n",
    "\n",
    "    # Files after B-band max have a P, otherwise they have an M\n",
    "    is_plus = True if file[4] == 'P' else False\n",
    "\n",
    "    # Offset days from B-band max is encoded in the last 3 numbers of the file\n",
    "    # name, and multiplied by 10\n",
    "    offset = int(file[5:8]) / 10\n",
    "\n",
    "    filepath = Path.cwd() / \"data\" / file\n",
    "    df = pd.read_csv(\n",
    "        filepath,\n",
    "        delim_whitespace=True,\n",
    "        skip_blank_lines=True,\n",
    "        comment=\"#\",\n",
    "        header=None,\n",
    "        names=(\"lambda\", \"flux\", \"flux_variance\"),\n",
    "    )\n",
    "\n",
    "    df[\"days_from_max\"] = offset if is_plus else -1 * offset\n",
    "\n",
    "    dfs.append(df)\n",
    "\n",
    "df = pd.concat(dfs, ignore_index=True)\n",
    "\n",
    "# Reorder by days, then wavelength, and then re-index so the index is in order\n",
    "df = df.sort_values([\"days_from_max\", \"lambda\"])\n",
    "df = df.reset_index(drop=True)\n",
    "\n",
    "del dfs  # Try to clean up some space"
   ]
  },
  {
   "cell_type": "markdown",
   "metadata": {},
   "source": [
    "Linearly interpolate the data for the times when there were no observations. "
   ]
  },
  {
   "cell_type": "code",
   "execution_count": null,
   "metadata": {},
   "outputs": [],
   "source": [
    "# Get the days and flux arrays\n",
    "days = df[\"days_from_max\"].unique()\n",
    "lambdas = df[\"lambda\"].unique()\n",
    "\n",
    "# Create a 2D array of wavelength (X) and day (Y).\n",
    "stacked = []\n",
    "for day in days:\n",
    "    flux = df[df[\"days_from_max\"]==day][\"flux\"]\n",
    "    stacked.append(flux)\n",
    "\n",
    "# Interpolate the flux values from the wavelength and the day. Since the\n",
    "# wavelengths are fixed we use a partial to bind the hard-coded wavelength\n",
    "# array to the function and turn it into a function that returns the flux array\n",
    "# from just the day.\n",
    "flux_from_day_and_wavelength = interp2d(lambdas, days, np.stack(stacked), kind='linear')\n",
    "flux_from_day = partial(flux_from_day_and_wavelength,  lambdas)"
   ]
  },
  {
   "cell_type": "markdown",
   "metadata": {},
   "source": [
    "## With Blitting"
   ]
  },
  {
   "cell_type": "markdown",
   "metadata": {},
   "source": [
    "You need an interable to store the artists that will be updated each frame of the plot, but it's easier to access them to update if we can get them by name. A `namedtuple` solves this problem easily."
   ]
  },
  {
   "cell_type": "code",
   "execution_count": null,
   "metadata": {},
   "outputs": [],
   "source": [
    "Artists = namedtuple(\"Artists\", (\"flux_line\", \"day\"))"
   ]
  },
  {
   "cell_type": "markdown",
   "metadata": {},
   "source": [
    "We need a function to draw the background of the figure. It must take no arguments when called, which we will accomplish by partially applying it. It should draw everything that does not change from frame-to-frame. It also must return the artists that are to be updated for each frame. I've found it's useful to pass in the artists to the init function instead of having it generate them, as this makes it easier to define them just once."
   ]
  },
  {
   "cell_type": "code",
   "execution_count": null,
   "metadata": {},
   "outputs": [],
   "source": [
    "def init_fig(fig, ax, artists):\n",
    "    \"\"\"Initialize the figure, used to draw the first frame for the animation.\n",
    "\n",
    "    Because this function must return a list of artists to be modified in the\n",
    "    animation, a list is passed in and returned without being used or altered.\n",
    "\n",
    "    Args:\n",
    "    fig (matplotlib figure): a matplotlib figure object\n",
    "    ax (matplotlib axis): a matplotlib axis object\n",
    "    artists: a list of artist objects\n",
    "\n",
    "    Returns:\n",
    "    list: the unaltered input artists\n",
    "\n",
    "    \"\"\"\n",
    "    # Set the axis and plot titles\n",
    "    ax.set_title(\"Supernova 2011fe Spectrum\", fontsize=22)\n",
    "    ax.set_xlabel(\"Wavelength [Å]\", fontsize=20)\n",
    "    ax.set_ylabel(\"Flux [erg s$​^{-1}$ cm$​^{-2}$ Å$​^{-1}$]\", fontsize=20)\n",
    "\n",
    "    # Set the axis range\n",
    "    plt.xlim(3000, 10000)\n",
    "    plt.ylim(0, 1.25e-12)\n",
    "\n",
    "    # Set tick label size\n",
    "    ax.tick_params(axis='both', which='major', labelsize=12)\n",
    "\n",
    "    # Pad the ticks so they do not overlap at the corner\n",
    "    ax.tick_params(axis='x', pad=10)\n",
    "    ax.tick_params(axis='y', pad=10)\n",
    "\n",
    "    # Must return the list of artists, but we use a pass through so that they\n",
    "    # aren't created multiple times\n",
    "    return artists"
   ]
  },
  {
   "cell_type": "markdown",
   "metadata": {},
   "source": [
    "We also need a function to step through time and update the data. It will take no arguments and will return a \"frame\", which is just any Python object, but one that is consumed by `update_artists()` (below) as the sole input."
   ]
  },
  {
   "cell_type": "code",
   "execution_count": null,
   "metadata": {},
   "outputs": [],
   "source": [
    "def step_through_frames(from_day, until_day):\n",
    "    \"\"\"Iterate through the days of the spectra and return flux and day\n",
    "    number.\n",
    "\n",
    "    Args:\n",
    "        from_day (int): start day, measured from B-max\n",
    "        until_day (int): day to stop just before, measured from B-max\n",
    "\n",
    "    Returns:\n",
    "        tuple: a tuple containing the numpy array of flux values and\n",
    "        the current day of the year\n",
    "    \"\"\"\n",
    "    # B band max happened on a specific day, and we calculate all dates from\n",
    "    # then\n",
    "    B_MAX_DATE = datetime.strptime(\"2011-09-10T12:40:10\", \"%Y-%m-%dT%H:%M:%S\")\n",
    "    for ten_day in range(from_day * 10, until_day * 10):\n",
    "        day = ten_day / 10\n",
    "        flux = flux_from_day(day)\n",
    "\n",
    "        date = B_MAX_DATE + timedelta(day)\n",
    "\n",
    "        yield (flux_from_day(day), date.strftime(\"%Y-%m-%d\"))"
   ]
  },
  {
   "cell_type": "markdown",
   "metadata": {},
   "source": [
    "Finally, we need to write a function to update all the artists with the new data from each frame."
   ]
  },
  {
   "cell_type": "code",
   "execution_count": null,
   "metadata": {},
   "outputs": [],
   "source": [
    "def update_artists(frames, artists, lambdas):\n",
    "    \"\"\"Update artists with data from each frame.\n",
    "\n",
    "    Args:\n",
    "        frames (tuple): contains the flux values as a numpy array and days from\n",
    "            B-Max as a float\n",
    "        artists (list of Artists): a list of artists to update\n",
    "\n",
    "    \"\"\"\n",
    "    flux, day = frames\n",
    "\n",
    "    artists.flux_line.set_data(lambdas, flux)\n",
    "    artists.day.set_text(day)"
   ]
  },
  {
   "cell_type": "markdown",
   "metadata": {},
   "source": [
    "## Putting it all together"
   ]
  },
  {
   "cell_type": "code",
   "execution_count": null,
   "metadata": {},
   "outputs": [],
   "source": [
    "# Video metadata\n",
    "VIDEO_META = {\n",
    "    \"title\": \"Supernova 2011fe Spectra Time Series\",\n",
    "    \"artist\": \"Alexander Gude\",\n",
    "    \"genre\": \"Scientific\",\n",
    "    \"subject\": \"A spectral time series of the explosion of supernova 2011fe\",\n",
    "    \"copyright\": \"CC-BY-SA 4.0\",\n",
    "}"
   ]
  },
  {
   "cell_type": "code",
   "execution_count": null,
   "metadata": {},
   "outputs": [],
   "source": [
    "# Create the pot\n",
    "fig, ax = plt.subplots(figsize=(12, 7))\n",
    "\n",
    "# Set the artists\n",
    "artists = Artists(\n",
    "    plt.plot([], [], animated=True, label=\"Flux\")[0],\n",
    "    ax.text(0.987, 0.955, \"\", fontsize=20, transform=ax.transAxes, horizontalalignment='right', verticalalignment='center'),\n",
    "    #ax.text(1, 1, \"\", fontsize=20, transform=ax.transAxes, horizontalalignment='right', verticalalignment='bottom'),\n",
    ")\n",
    "\n",
    "# Apply the three plotting functions written above\n",
    "init = partial(init_fig, fig=fig, ax=ax, artists=artists)\n",
    "step = partial(step_through_frames, -15, 25)\n",
    "update = partial(update_artists, artists=artists, lambdas=df[\"lambda\"].unique())\n",
    "\n",
    "# Generate the animation\n",
    "anim = animation.FuncAnimation(\n",
    "    fig=fig,\n",
    "    func=update,\n",
    "    frames=step,\n",
    "    init_func=init,\n",
    "    save_count=150, #len(list(step())),\n",
    "    repeat_delay=5000,\n",
    ")\n",
    "\n",
    "# Save the animation\n",
    "anim.save('/tmp/sn2011fe_spectral_time_series.mp4', fps=24, extra_args=['-vcodec', 'libx264'], dpi=300, metadata=VIDEO_META)\n",
    "\n",
    "# Save to disk\n",
    "for ext in (\"png\", \"svg\"):\n",
    "    fig.savefig(\"/tmp/sn2011fe_spectral_time_series.{ext}\".format(ext=ext), bbox_inches=\"tight\")\n",
    "    \n",
    "plt.show()"
   ]
  },
  {
   "cell_type": "code",
   "execution_count": null,
   "metadata": {},
   "outputs": [],
   "source": []
  }
 ],
 "metadata": {
  "kernelspec": {
   "display_name": "Python 3 (ipykernel)",
   "language": "python",
   "name": "python3"
  },
  "language_info": {
   "codemirror_mode": {
    "name": "ipython",
    "version": 3
   },
   "file_extension": ".py",
   "mimetype": "text/x-python",
   "name": "python",
   "nbconvert_exporter": "python",
   "pygments_lexer": "ipython3",
   "version": "3.8.10"
  }
 },
 "nbformat": 4,
 "nbformat_minor": 2
}
